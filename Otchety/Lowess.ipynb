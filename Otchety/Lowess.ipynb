{
 "cells": [
  {
   "cell_type": "code",
   "execution_count": 1,
   "metadata": {
    "collapsed": true
   },
   "outputs": [],
   "source": [
    "# Imports\n",
    "import numpy as np\n",
    "import math\n",
    "from bokeh.plotting import figure, show, output_file, output_notebook\n",
    "from bokeh.layouts import column\n",
    "from sklearn import datasets, metrics"
   ]
  },
  {
   "cell_type": "code",
   "execution_count": 2,
   "metadata": {},
   "outputs": [
    {
     "ename": "FileNotFoundError",
     "evalue": "[Errno 2] No such file or directory: './YachtRegression.txt'",
     "output_type": "error",
     "traceback": [
      "\u001b[1;31m---------------------------------------------------------------------------\u001b[0m",
      "\u001b[1;31mFileNotFoundError\u001b[0m                         Traceback (most recent call last)",
      "\u001b[1;32m<ipython-input-2-05f355e8c986>\u001b[0m in \u001b[0;36m<module>\u001b[1;34m()\u001b[0m\n\u001b[0;32m      1\u001b[0m \u001b[1;31m# Data importing and organizing\u001b[0m\u001b[1;33m\u001b[0m\u001b[1;33m\u001b[0m\u001b[0m\n\u001b[0;32m      2\u001b[0m \u001b[1;33m\u001b[0m\u001b[0m\n\u001b[1;32m----> 3\u001b[1;33m \u001b[0myacht_file\u001b[0m \u001b[1;33m=\u001b[0m \u001b[0mopen\u001b[0m\u001b[1;33m(\u001b[0m\u001b[1;34m\"./YachtRegression.txt\"\u001b[0m\u001b[1;33m,\u001b[0m\u001b[1;34m\"r\"\u001b[0m\u001b[1;33m)\u001b[0m\u001b[1;33m\u001b[0m\u001b[0m\n\u001b[0m\u001b[0;32m      4\u001b[0m \u001b[0mdata\u001b[0m \u001b[1;33m=\u001b[0m \u001b[0myacht_file\u001b[0m\u001b[1;33m.\u001b[0m\u001b[0mreadlines\u001b[0m\u001b[1;33m(\u001b[0m\u001b[1;33m)\u001b[0m\u001b[1;33m\u001b[0m\u001b[0m\n\u001b[0;32m      5\u001b[0m \u001b[1;33m\u001b[0m\u001b[0m\n",
      "\u001b[1;31mFileNotFoundError\u001b[0m: [Errno 2] No such file or directory: './YachtRegression.txt'"
     ]
    }
   ],
   "source": [
    "# Data importing and organizing\n",
    "\n",
    "yacht_file = open(\"./YachtRegression.txt\",\"r\")\n",
    "data = yacht_file.readlines()\n",
    "\n",
    "typenames = None\n",
    "dataset = []\n",
    "for line in data:\n",
    "    if(line[0]==\"#\"):\n",
    "        typenames = [x[1:].replace(\"_\",\" \") for x in line.split()]\n",
    "    else:\n",
    "        if(len(dataset)<50):\n",
    "            words = line.split()\n",
    "            dataset.append([float(x) for x in words])\n",
    "\n",
    "main_val = 5\n",
    "regr_val = 6\n",
    "\n",
    "X = [[x[main_val]] for x in dataset]\n",
    "Y = [x[regr_val] for x in dataset]\n",
    "X = np.asarray(X)\n",
    "Y = np.asarray(Y)\n",
    "\n",
    "#X,Y = datasets.make_regression(n_samples=20, n_features=1,n_targets=1,noise=2)"
   ]
  },
  {
   "cell_type": "code",
   "execution_count": null,
   "metadata": {
    "collapsed": true
   },
   "outputs": [],
   "source": [
    "# Alghoritm definition\n",
    "def lowess(x,X,Y,weights,kernel,h):\n",
    "    if h == None:\n",
    "        h = 1\n",
    "    upper_sum = 0\n",
    "    down_sum = 0\n",
    "    for i in range(len(X)):\n",
    "        upper_sum = upper_sum + Y[i]*weights[i]*kernel(metrics.pairwise.euclidean_distances([x],[X[i]])[0][0]/h)\n",
    "        down_sum = down_sum + weights[i]*kernel(metrics.pairwise.euclidean_distances([x],[X[i]])[0][0]/h)\n",
    "    if(upper_sum==0):\n",
    "        return 0\n",
    "    return upper_sum/down_sum\n",
    "\n",
    "def cross_validation(X,Y,kernel,steps,h):\n",
    "    weights = [1 for x in X]\n",
    "    errors = [1 for x in X]\n",
    "    for i in range(steps):\n",
    "        for k in range(len(X)):\n",
    "            item = X[k]\n",
    "            val = Y[k]\n",
    "            X_t = np.delete(X,k,0)\n",
    "            Y_t = np.delete(Y,k)\n",
    "            weights_t = np.delete(weights,k)\n",
    "            val_t = lowess(item,X_t,Y_t,weights_t,kernel,h)\n",
    "            errors[k] = abs(val_t-val)\n",
    "        s = np.median(errors)\n",
    "        weights = [(1-abs(e/(6*s))**2)**2 if abs((e/(6*s)))<=1 else 0 for e in errors]\n",
    "    return weights\n",
    "\n",
    "def kernel_gauss(val):\n",
    "    return (math.pi**(-0.5))*(math.e**(-(val**2)/2))\n",
    "\n",
    "\n",
    "def kernel_cvart(val):\n",
    "    return (15/16)*((1-val**2)**2)*(1 if math.fabs(val)<=1 else 0)"
   ]
  },
  {
   "cell_type": "code",
   "execution_count": null,
   "metadata": {
    "collapsed": true
   },
   "outputs": [],
   "source": [
    "# Calculations\n",
    "x_min = X[:,:].min()\n",
    "x_max = X[:,:].max()\n",
    "\n",
    "h_gaus = 0.025\n",
    "weights_gauss = np.asarray(cross_validation(X,Y,kernel_gauss,5,h_gaus))\n",
    "wg_min,wg_max = weights_gauss[:].min(),weights_gauss[:].max()\n",
    "\n",
    "\n",
    "h_cvart = 0.025\n",
    "weights_cvart = np.asarray(cross_validation(X,Y,kernel_cvart,5,h_cvart))\n",
    "wc_min,wc_max = weights_cvart[:].min(),weights_cvart[:].max()\n"
   ]
  },
  {
   "cell_type": "code",
   "execution_count": null,
   "metadata": {},
   "outputs": [],
   "source": [
    "# Visualizations\n",
    "colors = [[250,0,0],[0,0,250]]\n",
    "TOOLS=\"hover,crosshair,pan,wheel_zoom,zoom_in,zoom_out,box_zoom,reset,tap,save,\"\n",
    "r = (x_max-x_min)/100\n",
    "\n",
    "x_steps = 400\n",
    "x_step = (x_max-x_min)/x_steps\n",
    "\n",
    "\n",
    "p_1 = figure(tools=TOOLS,x_range=(x_min,x_max))\n",
    "p_1.scatter([x[0] for x in X], [x for x in Y],radius = r,\n",
    "          fill_color=[\"#%02x%02x%02x\" % \n",
    "                      (int((1-w)*255),int((1-w)*255),int((1-w)*255)) for w in weights_gauss],\n",
    "          line_color=\"#000000\")\n",
    "p_1.line([x_min+x_step*x for x in range(x_steps)],\n",
    "         [lowess([x_min+x_step*x],X,Y,weights_gauss,kernel_gauss,h_gaus) for x in range(x_steps)],\n",
    "         line_width=2)\n",
    "\n",
    "p_1.xaxis.axis_label = typenames[main_val]\n",
    "p_1.yaxis.axis_label = typenames[regr_val]\n",
    "\n",
    "\n",
    "\n",
    "p_2 = figure(tools=TOOLS,x_range=(x_min,x_max))\n",
    "p_2.scatter([x[0] for x in X], [x for x in Y],radius = r,\n",
    "          fill_color=[\"#%02x%02x%02x\" % \n",
    "                      (int((1-w)*255),int((1-w)*255),int((1-w)*255)) for w in weights_cvart],\n",
    "          line_color=\"#000000\")\n",
    "\n",
    "p_2.line([x_min+x_step*x for x in range(x_steps)],\n",
    "         [lowess([x_min+x_step*x],X,Y,weights_cvart,kernel_cvart,h_cvart) for x in range(x_steps)],\n",
    "         line_width=2)\n",
    "\n",
    "p_2.xaxis.axis_label = typenames[main_val]\n",
    "p_2.yaxis.axis_label = typenames[regr_val]\n",
    "\n",
    "\n",
    "output_file(\"Lowess.html\", title=\"Lowess\")\n",
    "output_notebook()\n",
    "\n",
    "show(column(p_1,p_2), notebook_handle=True)"
   ]
  },
  {
   "cell_type": "code",
   "execution_count": null,
   "metadata": {
    "collapsed": true
   },
   "outputs": [],
   "source": []
  },
  {
   "cell_type": "code",
   "execution_count": null,
   "metadata": {
    "collapsed": true
   },
   "outputs": [],
   "source": []
  }
 ],
 "metadata": {
  "kernelspec": {
   "display_name": "Python 3",
   "language": "python",
   "name": "python3"
  },
  "language_info": {
   "codemirror_mode": {
    "name": "ipython",
    "version": 3
   },
   "file_extension": ".py",
   "mimetype": "text/x-python",
   "name": "python",
   "nbconvert_exporter": "python",
   "pygments_lexer": "ipython3",
   "version": "3.6.3"
  }
 },
 "nbformat": 4,
 "nbformat_minor": 2
}
